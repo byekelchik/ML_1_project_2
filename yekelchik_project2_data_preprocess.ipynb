{
 "cells": [
  {
   "cell_type": "code",
   "execution_count": 1,
   "metadata": {},
   "outputs": [],
   "source": [
    "import pandas as pd\n",
    "import numpy as np\n",
    "from sklearn.preprocessing import StandardScaler,MinMaxScaler\n",
    "import tensorflow as tf\n",
    "from sklearn.decomposition import PCA\n",
    "import matplotlib.pyplot as plt"
   ]
  },
  {
   "cell_type": "markdown",
   "metadata": {},
   "source": [
    "# Data Import"
   ]
  },
  {
   "cell_type": "code",
   "execution_count": 69,
   "metadata": {},
   "outputs": [],
   "source": [
    "x = pd.read_csv('loan_X_train.csv',header=None)\n",
    "y = pd.read_csv('loan_y_train.csv',header=None)\n",
    "y.columns=['Target'] #add target title\n",
    "data = pd.concat([x,y],axis = 1) #join the two dataset"
   ]
  },
  {
   "cell_type": "code",
   "execution_count": 78,
   "metadata": {},
   "outputs": [
    {
     "data": {
      "text/plain": [
       "(96589, 79)"
      ]
     },
     "execution_count": 78,
     "metadata": {},
     "output_type": "execute_result"
    }
   ],
   "source": [
    "data.shape"
   ]
  },
  {
   "cell_type": "code",
   "execution_count": 73,
   "metadata": {},
   "outputs": [],
   "source": [
    "data.head()\n",
    "data.to_csv('project_2_full_data')"
   ]
  },
  {
   "cell_type": "markdown",
   "metadata": {},
   "source": [
    "# Scaling Features"
   ]
  },
  {
   "cell_type": "code",
   "execution_count": 98,
   "metadata": {},
   "outputs": [],
   "source": [
    "mms = MinMaxScaler()\n",
    "x_scaled = mms.fit_transform(x)\n",
    "x_scaled = pd.DataFrame(x_scaled)"
   ]
  },
  {
   "cell_type": "code",
   "execution_count": 80,
   "metadata": {},
   "outputs": [
    {
     "data": {
      "text/html": [
       "<div>\n",
       "<style scoped>\n",
       "    .dataframe tbody tr th:only-of-type {\n",
       "        vertical-align: middle;\n",
       "    }\n",
       "\n",
       "    .dataframe tbody tr th {\n",
       "        vertical-align: top;\n",
       "    }\n",
       "\n",
       "    .dataframe thead th {\n",
       "        text-align: right;\n",
       "    }\n",
       "</style>\n",
       "<table border=\"1\" class=\"dataframe\">\n",
       "  <thead>\n",
       "    <tr style=\"text-align: right;\">\n",
       "      <th></th>\n",
       "      <th>0</th>\n",
       "      <th>1</th>\n",
       "      <th>2</th>\n",
       "      <th>3</th>\n",
       "      <th>4</th>\n",
       "      <th>5</th>\n",
       "      <th>6</th>\n",
       "      <th>7</th>\n",
       "      <th>8</th>\n",
       "      <th>9</th>\n",
       "      <th>...</th>\n",
       "      <th>68</th>\n",
       "      <th>69</th>\n",
       "      <th>70</th>\n",
       "      <th>71</th>\n",
       "      <th>72</th>\n",
       "      <th>73</th>\n",
       "      <th>74</th>\n",
       "      <th>75</th>\n",
       "      <th>76</th>\n",
       "      <th>77</th>\n",
       "    </tr>\n",
       "  </thead>\n",
       "  <tbody>\n",
       "    <tr>\n",
       "      <th>0</th>\n",
       "      <td>2.266687</td>\n",
       "      <td>1.562528</td>\n",
       "      <td>1.383177</td>\n",
       "      <td>1.858584</td>\n",
       "      <td>0.231305</td>\n",
       "      <td>0.034850</td>\n",
       "      <td>0.071057</td>\n",
       "      <td>-0.325878</td>\n",
       "      <td>-0.098743</td>\n",
       "      <td>1.453299</td>\n",
       "      <td>...</td>\n",
       "      <td>-0.275979</td>\n",
       "      <td>-0.279353</td>\n",
       "      <td>2.447052</td>\n",
       "      <td>-0.276956</td>\n",
       "      <td>-0.407239</td>\n",
       "      <td>-0.406773</td>\n",
       "      <td>-0.411618</td>\n",
       "      <td>-0.273560</td>\n",
       "      <td>-0.279138</td>\n",
       "      <td>0.391480</td>\n",
       "    </tr>\n",
       "    <tr>\n",
       "      <th>1</th>\n",
       "      <td>-0.019300</td>\n",
       "      <td>-0.639988</td>\n",
       "      <td>0.682211</td>\n",
       "      <td>0.303677</td>\n",
       "      <td>-0.602406</td>\n",
       "      <td>0.082474</td>\n",
       "      <td>-0.120496</td>\n",
       "      <td>-0.325878</td>\n",
       "      <td>-0.151517</td>\n",
       "      <td>0.454195</td>\n",
       "      <td>...</td>\n",
       "      <td>-0.275979</td>\n",
       "      <td>-0.279353</td>\n",
       "      <td>-0.408655</td>\n",
       "      <td>-0.276956</td>\n",
       "      <td>-0.407239</td>\n",
       "      <td>-0.406773</td>\n",
       "      <td>2.429439</td>\n",
       "      <td>-0.273560</td>\n",
       "      <td>-0.279138</td>\n",
       "      <td>1.079876</td>\n",
       "    </tr>\n",
       "    <tr>\n",
       "      <th>2</th>\n",
       "      <td>2.393851</td>\n",
       "      <td>1.562528</td>\n",
       "      <td>0.991333</td>\n",
       "      <td>1.834711</td>\n",
       "      <td>0.787675</td>\n",
       "      <td>-0.218947</td>\n",
       "      <td>-0.695155</td>\n",
       "      <td>1.323821</td>\n",
       "      <td>-0.334877</td>\n",
       "      <td>-0.350990</td>\n",
       "      <td>...</td>\n",
       "      <td>-0.275979</td>\n",
       "      <td>-0.279353</td>\n",
       "      <td>-0.408655</td>\n",
       "      <td>-0.276956</td>\n",
       "      <td>-0.407239</td>\n",
       "      <td>2.458375</td>\n",
       "      <td>-0.411618</td>\n",
       "      <td>-0.273560</td>\n",
       "      <td>-0.279138</td>\n",
       "      <td>-1.673708</td>\n",
       "    </tr>\n",
       "    <tr>\n",
       "      <th>3</th>\n",
       "      <td>-0.326859</td>\n",
       "      <td>-0.639988</td>\n",
       "      <td>-0.695775</td>\n",
       "      <td>-0.215804</td>\n",
       "      <td>-0.172745</td>\n",
       "      <td>-0.224674</td>\n",
       "      <td>1.411929</td>\n",
       "      <td>-0.325878</td>\n",
       "      <td>0.056455</td>\n",
       "      <td>-0.793631</td>\n",
       "      <td>...</td>\n",
       "      <td>-0.275979</td>\n",
       "      <td>-0.279353</td>\n",
       "      <td>2.447052</td>\n",
       "      <td>-0.276956</td>\n",
       "      <td>-0.407239</td>\n",
       "      <td>-0.406773</td>\n",
       "      <td>-0.411618</td>\n",
       "      <td>-0.273560</td>\n",
       "      <td>-0.279138</td>\n",
       "      <td>1.079876</td>\n",
       "    </tr>\n",
       "    <tr>\n",
       "      <th>4</th>\n",
       "      <td>-0.800026</td>\n",
       "      <td>-0.639988</td>\n",
       "      <td>-1.668855</td>\n",
       "      <td>-0.805512</td>\n",
       "      <td>-0.004250</td>\n",
       "      <td>-0.448931</td>\n",
       "      <td>0.837270</td>\n",
       "      <td>-0.325878</td>\n",
       "      <td>-0.609633</td>\n",
       "      <td>-2.075182</td>\n",
       "      <td>...</td>\n",
       "      <td>-0.275979</td>\n",
       "      <td>-0.279353</td>\n",
       "      <td>-0.408655</td>\n",
       "      <td>-0.276956</td>\n",
       "      <td>-0.407239</td>\n",
       "      <td>-0.406773</td>\n",
       "      <td>-0.411618</td>\n",
       "      <td>3.655499</td>\n",
       "      <td>-0.279138</td>\n",
       "      <td>-1.260671</td>\n",
       "    </tr>\n",
       "  </tbody>\n",
       "</table>\n",
       "<p>5 rows × 78 columns</p>\n",
       "</div>"
      ],
      "text/plain": [
       "         0         1         2         3         4         5         6   \\\n",
       "0  2.266687  1.562528  1.383177  1.858584  0.231305  0.034850  0.071057   \n",
       "1 -0.019300 -0.639988  0.682211  0.303677 -0.602406  0.082474 -0.120496   \n",
       "2  2.393851  1.562528  0.991333  1.834711  0.787675 -0.218947 -0.695155   \n",
       "3 -0.326859 -0.639988 -0.695775 -0.215804 -0.172745 -0.224674  1.411929   \n",
       "4 -0.800026 -0.639988 -1.668855 -0.805512 -0.004250 -0.448931  0.837270   \n",
       "\n",
       "         7         8         9   ...        68        69        70        71  \\\n",
       "0 -0.325878 -0.098743  1.453299  ... -0.275979 -0.279353  2.447052 -0.276956   \n",
       "1 -0.325878 -0.151517  0.454195  ... -0.275979 -0.279353 -0.408655 -0.276956   \n",
       "2  1.323821 -0.334877 -0.350990  ... -0.275979 -0.279353 -0.408655 -0.276956   \n",
       "3 -0.325878  0.056455 -0.793631  ... -0.275979 -0.279353  2.447052 -0.276956   \n",
       "4 -0.325878 -0.609633 -2.075182  ... -0.275979 -0.279353 -0.408655 -0.276956   \n",
       "\n",
       "         72        73        74        75        76        77  \n",
       "0 -0.407239 -0.406773 -0.411618 -0.273560 -0.279138  0.391480  \n",
       "1 -0.407239 -0.406773  2.429439 -0.273560 -0.279138  1.079876  \n",
       "2 -0.407239  2.458375 -0.411618 -0.273560 -0.279138 -1.673708  \n",
       "3 -0.407239 -0.406773 -0.411618 -0.273560 -0.279138  1.079876  \n",
       "4 -0.407239 -0.406773 -0.411618  3.655499 -0.279138 -1.260671  \n",
       "\n",
       "[5 rows x 78 columns]"
      ]
     },
     "execution_count": 80,
     "metadata": {},
     "output_type": "execute_result"
    }
   ],
   "source": [
    "x_scaled.head()"
   ]
  },
  {
   "cell_type": "markdown",
   "metadata": {},
   "source": [
    "# PCA"
   ]
  },
  {
   "cell_type": "code",
   "execution_count": 99,
   "metadata": {},
   "outputs": [],
   "source": [
    "feat_count = x_scaled.shape[1]\n",
    "pca_full = PCA(n_components=feat_count)\n",
    "x_pca_full = pca_full.fit_transform(x_scaled) "
   ]
  },
  {
   "cell_type": "code",
   "execution_count": 112,
   "metadata": {},
   "outputs": [
    {
     "data": {
      "image/png": "[encoded data removed]",
      "text/plain": [
       "<Figure size 432x288 with 1 Axes>"
      ]
     },
     "metadata": {
      "needs_background": "light"
     },
     "output_type": "display_data"
    }
   ],
   "source": [
    "plt.plot(np.cumsum(pca_full.explained_variance_ratio_*100))\n",
    "plt.xlabel('Components')\n",
    "plt.ylabel('Explained Var')\n",
    "plt.axhline(y=95,color='r')\n",
    "plt.title('Components vs Explained Var')\n",
    "plt.savefig('PCA_explained_var')"
   ]
  },
  {
   "cell_type": "code",
   "execution_count": 116,
   "metadata": {},
   "outputs": [],
   "source": [
    "cum_explained_var = np.cumsum(pca_full.explained_variance_ratio_*100)\n",
    "num_comp_var95 = next(x[0] for x in enumerate(cum_explained_var) if x[1] > 95)\n",
    "num_comp_var99 = next(x[0] for x in enumerate(cum_explained_var) if x[1] > 99)"
   ]
  },
  {
   "cell_type": "code",
   "execution_count": 117,
   "metadata": {},
   "outputs": [
    {
     "name": "stdout",
     "output_type": "stream",
     "text": [
      "We use 40 components to capture 95% var\n",
      "We use 54 components to capture 99% var\n"
     ]
    }
   ],
   "source": [
    "print(f'We use {num_comp_var95} components to capture 95% var')\n",
    "print(f'We use {num_comp_var99} components to capture 99% var')"
   ]
  },
  {
   "cell_type": "code",
   "execution_count": 143,
   "metadata": {},
   "outputs": [],
   "source": [
    "pca_95 = PCA(n_components=40)\n",
    "x_pca_95 = pca_95.fit_transform(x_scaled)"
   ]
  },
  {
   "cell_type": "code",
   "execution_count": 144,
   "metadata": {},
   "outputs": [],
   "source": [
    "pca_99 = PCA(n_components=num_comp_var99)\n",
    "x_pca_99 = pca_99.fit_transform(x_scaled)"
   ]
  },
  {
   "cell_type": "code",
   "execution_count": 120,
   "metadata": {},
   "outputs": [
    {
     "data": {
      "text/plain": [
       "(96589, 40)"
      ]
     },
     "execution_count": 120,
     "metadata": {},
     "output_type": "execute_result"
    }
   ],
   "source": [
    "x_pca_95.shape"
   ]
  },
  {
   "cell_type": "code",
   "execution_count": 132,
   "metadata": {},
   "outputs": [],
   "source": [
    "def pca_labels(comp_shape): #create labels for components\n",
    "    pca_columns = []\n",
    "    for i in range(comp_shape):\n",
    "        comp_number = f'PC{i+1}'\n",
    "        pca_columns.append(comp_number)\n",
    "    return pca_columns"
   ]
  },
  {
   "cell_type": "code",
   "execution_count": 136,
   "metadata": {},
   "outputs": [],
   "source": [
    "var_95_labels = pca_labels(num_comp_var95)\n",
    "var_99_labels = pca_labels(num_comp_var99)"
   ]
  },
  {
   "cell_type": "code",
   "execution_count": 146,
   "metadata": {},
   "outputs": [],
   "source": [
    "df_95_var = pd.DataFrame(x_pca_95,columns=var_95_labels)\n",
    "df_99_var = pd.DataFrame(x_pca_99,columns=var_99_labels)"
   ]
  },
  {
   "cell_type": "code",
   "execution_count": 150,
   "metadata": {},
   "outputs": [],
   "source": [
    "df_95_var['Target']=y #final data w/ 95% exp var\n",
    "df_99_var['Target']=y #final data w/ 99% ex par "
   ]
  },
  {
   "cell_type": "code",
   "execution_count": 153,
   "metadata": {},
   "outputs": [],
   "source": [
    "df_95_var.to_csv('project_2_dataset_95var')\n",
    "df_99_var.to_csv('project_2_dataset_99var')"
   ]
  }
 ],
 "metadata": {
  "interpreter": {
   "hash": "1d050cddb74b2da45a0628d6c08448b1b07527cd23eae961beca7c27a7bd2f06"
  },
  "kernelspec": {
   "display_name": "Python 3.9.9 64-bit (windows store)",
   "language": "python",
   "name": "python3"
  },
  "language_info": {
   "codemirror_mode": {
    "name": "ipython",
    "version": 3
   },
   "file_extension": ".py",
   "mimetype": "text/x-python",
   "name": "python",
   "nbconvert_exporter": "python",
   "pygments_lexer": "ipython3",
   "version": "3.9.9"
  },
  "orig_nbformat": 4
 },
 "nbformat": 4,
 "nbformat_minor": 2
}
