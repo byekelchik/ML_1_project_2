{
 "cells": [
  {
   "cell_type": "code",
   "execution_count": 1,
   "metadata": {},
   "outputs": [],
   "source": [
    "import pandas as pd\n",
    "import numpy as np\n",
    "from sklearn.preprocessing import StandardScaler,MinMaxScaler\n",
    "import tensorflow as tf\n",
    "from sklearn.decomposition import PCA\n",
    "import matplotlib.pyplot as plt"
   ]
  },
  {
   "cell_type": "markdown",
   "metadata": {},
   "source": [
    "# Data Import"
   ]
  },
  {
   "cell_type": "code",
   "execution_count": 2,
   "metadata": {},
   "outputs": [],
   "source": [
    "x = pd.read_csv('loan_X_train.csv',header=None)\n",
    "y = pd.read_csv('loan_y_train.csv',header=None)\n",
    "y.columns=['Target'] #add target title\n",
    "data = pd.concat([x,y],axis = 1) #join the two dataset"
   ]
  },
  {
   "cell_type": "code",
   "execution_count": 3,
   "metadata": {},
   "outputs": [
    {
     "data": {
      "text/plain": [
       "(96589, 79)"
      ]
     },
     "execution_count": 3,
     "metadata": {},
     "output_type": "execute_result"
    }
   ],
   "source": [
    "data.shape"
   ]
  },
  {
   "cell_type": "code",
   "execution_count": 4,
   "metadata": {},
   "outputs": [],
   "source": [
    "data.head()\n",
    "data.to_csv('project_2_full_data')"
   ]
  },
  {
   "cell_type": "markdown",
   "metadata": {},
   "source": [
    "# Scaling Features"
   ]
  },
  {
   "cell_type": "code",
   "execution_count": 5,
   "metadata": {},
   "outputs": [],
   "source": [
    "mms = MinMaxScaler()\n",
    "x_scaled = mms.fit_transform(x)\n",
    "x_scaled = pd.DataFrame(x_scaled)"
   ]
  },
  {
   "cell_type": "code",
   "execution_count": 6,
   "metadata": {},
   "outputs": [
    {
     "data": {
      "text/html": [
       "<div>\n",
       "<style scoped>\n",
       "    .dataframe tbody tr th:only-of-type {\n",
       "        vertical-align: middle;\n",
       "    }\n",
       "\n",
       "    .dataframe tbody tr th {\n",
       "        vertical-align: top;\n",
       "    }\n",
       "\n",
       "    .dataframe thead th {\n",
       "        text-align: right;\n",
       "    }\n",
       "</style>\n",
       "<table border=\"1\" class=\"dataframe\">\n",
       "  <thead>\n",
       "    <tr style=\"text-align: right;\">\n",
       "      <th></th>\n",
       "      <th>0</th>\n",
       "      <th>1</th>\n",
       "      <th>2</th>\n",
       "      <th>3</th>\n",
       "      <th>4</th>\n",
       "      <th>5</th>\n",
       "      <th>6</th>\n",
       "      <th>7</th>\n",
       "      <th>8</th>\n",
       "      <th>9</th>\n",
       "      <th>...</th>\n",
       "      <th>68</th>\n",
       "      <th>69</th>\n",
       "      <th>70</th>\n",
       "      <th>71</th>\n",
       "      <th>72</th>\n",
       "      <th>73</th>\n",
       "      <th>74</th>\n",
       "      <th>75</th>\n",
       "      <th>76</th>\n",
       "      <th>77</th>\n",
       "    </tr>\n",
       "  </thead>\n",
       "  <tbody>\n",
       "    <tr>\n",
       "      <th>0</th>\n",
       "      <td>0.844231</td>\n",
       "      <td>1.0</td>\n",
       "      <td>0.610440</td>\n",
       "      <td>0.590574</td>\n",
       "      <td>0.012039</td>\n",
       "      <td>0.001982</td>\n",
       "      <td>0.123596</td>\n",
       "      <td>0.000000</td>\n",
       "      <td>0.007958</td>\n",
       "      <td>0.590820</td>\n",
       "      <td>...</td>\n",
       "      <td>0.0</td>\n",
       "      <td>0.0</td>\n",
       "      <td>1.0</td>\n",
       "      <td>0.0</td>\n",
       "      <td>0.0</td>\n",
       "      <td>0.0</td>\n",
       "      <td>0.0</td>\n",
       "      <td>0.0</td>\n",
       "      <td>0.0</td>\n",
       "      <td>0.796610</td>\n",
       "    </tr>\n",
       "    <tr>\n",
       "      <th>1</th>\n",
       "      <td>0.348718</td>\n",
       "      <td>0.0</td>\n",
       "      <td>0.485002</td>\n",
       "      <td>0.330485</td>\n",
       "      <td>0.005111</td>\n",
       "      <td>0.002140</td>\n",
       "      <td>0.112360</td>\n",
       "      <td>0.000000</td>\n",
       "      <td>0.007318</td>\n",
       "      <td>0.435410</td>\n",
       "      <td>...</td>\n",
       "      <td>0.0</td>\n",
       "      <td>0.0</td>\n",
       "      <td>0.0</td>\n",
       "      <td>0.0</td>\n",
       "      <td>0.0</td>\n",
       "      <td>0.0</td>\n",
       "      <td>1.0</td>\n",
       "      <td>0.0</td>\n",
       "      <td>0.0</td>\n",
       "      <td>0.881356</td>\n",
       "    </tr>\n",
       "    <tr>\n",
       "      <th>2</th>\n",
       "      <td>0.871795</td>\n",
       "      <td>1.0</td>\n",
       "      <td>0.540319</td>\n",
       "      <td>0.586581</td>\n",
       "      <td>0.016663</td>\n",
       "      <td>0.001140</td>\n",
       "      <td>0.078652</td>\n",
       "      <td>0.011628</td>\n",
       "      <td>0.005096</td>\n",
       "      <td>0.310164</td>\n",
       "      <td>...</td>\n",
       "      <td>0.0</td>\n",
       "      <td>0.0</td>\n",
       "      <td>0.0</td>\n",
       "      <td>0.0</td>\n",
       "      <td>0.0</td>\n",
       "      <td>1.0</td>\n",
       "      <td>0.0</td>\n",
       "      <td>0.0</td>\n",
       "      <td>0.0</td>\n",
       "      <td>0.542373</td>\n",
       "    </tr>\n",
       "    <tr>\n",
       "      <th>3</th>\n",
       "      <td>0.282051</td>\n",
       "      <td>0.0</td>\n",
       "      <td>0.238411</td>\n",
       "      <td>0.243592</td>\n",
       "      <td>0.008681</td>\n",
       "      <td>0.001121</td>\n",
       "      <td>0.202247</td>\n",
       "      <td>0.000000</td>\n",
       "      <td>0.009839</td>\n",
       "      <td>0.241311</td>\n",
       "      <td>...</td>\n",
       "      <td>0.0</td>\n",
       "      <td>0.0</td>\n",
       "      <td>1.0</td>\n",
       "      <td>0.0</td>\n",
       "      <td>0.0</td>\n",
       "      <td>0.0</td>\n",
       "      <td>0.0</td>\n",
       "      <td>0.0</td>\n",
       "      <td>0.0</td>\n",
       "      <td>0.881356</td>\n",
       "    </tr>\n",
       "    <tr>\n",
       "      <th>4</th>\n",
       "      <td>0.179487</td>\n",
       "      <td>0.0</td>\n",
       "      <td>0.064277</td>\n",
       "      <td>0.144951</td>\n",
       "      <td>0.010082</td>\n",
       "      <td>0.000377</td>\n",
       "      <td>0.168539</td>\n",
       "      <td>0.000000</td>\n",
       "      <td>0.001766</td>\n",
       "      <td>0.041967</td>\n",
       "      <td>...</td>\n",
       "      <td>0.0</td>\n",
       "      <td>0.0</td>\n",
       "      <td>0.0</td>\n",
       "      <td>0.0</td>\n",
       "      <td>0.0</td>\n",
       "      <td>0.0</td>\n",
       "      <td>0.0</td>\n",
       "      <td>1.0</td>\n",
       "      <td>0.0</td>\n",
       "      <td>0.593220</td>\n",
       "    </tr>\n",
       "  </tbody>\n",
       "</table>\n",
       "<p>5 rows × 78 columns</p>\n",
       "</div>"
      ],
      "text/plain": [
       "         0    1         2         3         4         5         6         7   \\\n",
       "0  0.844231  1.0  0.610440  0.590574  0.012039  0.001982  0.123596  0.000000   \n",
       "1  0.348718  0.0  0.485002  0.330485  0.005111  0.002140  0.112360  0.000000   \n",
       "2  0.871795  1.0  0.540319  0.586581  0.016663  0.001140  0.078652  0.011628   \n",
       "3  0.282051  0.0  0.238411  0.243592  0.008681  0.001121  0.202247  0.000000   \n",
       "4  0.179487  0.0  0.064277  0.144951  0.010082  0.000377  0.168539  0.000000   \n",
       "\n",
       "         8         9   ...   68   69   70   71   72   73   74   75   76  \\\n",
       "0  0.007958  0.590820  ...  0.0  0.0  1.0  0.0  0.0  0.0  0.0  0.0  0.0   \n",
       "1  0.007318  0.435410  ...  0.0  0.0  0.0  0.0  0.0  0.0  1.0  0.0  0.0   \n",
       "2  0.005096  0.310164  ...  0.0  0.0  0.0  0.0  0.0  1.0  0.0  0.0  0.0   \n",
       "3  0.009839  0.241311  ...  0.0  0.0  1.0  0.0  0.0  0.0  0.0  0.0  0.0   \n",
       "4  0.001766  0.041967  ...  0.0  0.0  0.0  0.0  0.0  0.0  0.0  1.0  0.0   \n",
       "\n",
       "         77  \n",
       "0  0.796610  \n",
       "1  0.881356  \n",
       "2  0.542373  \n",
       "3  0.881356  \n",
       "4  0.593220  \n",
       "\n",
       "[5 rows x 78 columns]"
      ]
     },
     "execution_count": 6,
     "metadata": {},
     "output_type": "execute_result"
    }
   ],
   "source": [
    "x_scaled.head()"
   ]
  },
  {
   "cell_type": "markdown",
   "metadata": {},
   "source": [
    "# PCA"
   ]
  },
  {
   "cell_type": "code",
   "execution_count": 7,
   "metadata": {},
   "outputs": [],
   "source": [
    "feat_count = x_scaled.shape[1]\n",
    "pca_full = PCA(n_components=feat_count)\n",
    "x_pca_full = pca_full.fit_transform(x_scaled) "
   ]
  },
  {
   "cell_type": "code",
   "execution_count": 8,
   "metadata": {},
   "outputs": [
    {
     "data": {
      "image/png": "[encoded data removed]",
      "text/plain": [
       "<Figure size 432x288 with 1 Axes>"
      ]
     },
     "metadata": {
      "needs_background": "light"
     },
     "output_type": "display_data"
    }
   ],
   "source": [
    "plt.plot(np.cumsum(pca_full.explained_variance_ratio_*100))\n",
    "plt.xlabel('Components')\n",
    "plt.ylabel('Explained Var')\n",
    "plt.axhline(y=95,color='r')\n",
    "plt.title('Components vs Explained Var')\n",
    "# plt.savefig('PCA_explained_var')"
   ]
  },
  {
   "cell_type": "code",
   "execution_count": 116,
   "metadata": {},
   "outputs": [],
   "source": [
    "cum_explained_var = np.cumsum(pca_full.explained_variance_ratio_*100)\n",
    "num_comp_var95 = next(x[0] for x in enumerate(cum_explained_var) if x[1] > 95)\n",
    "num_comp_var99 = next(x[0] for x in enumerate(cum_explained_var) if x[1] > 99)"
   ]
  },
  {
   "cell_type": "code",
   "execution_count": 117,
   "metadata": {},
   "outputs": [
    {
     "name": "stdout",
     "output_type": "stream",
     "text": [
      "We use 40 components to capture 95% var\n",
      "We use 54 components to capture 99% var\n"
     ]
    }
   ],
   "source": [
    "print(f'We use {num_comp_var95} components to capture 95% var')\n",
    "print(f'We use {num_comp_var99} components to capture 99% var')"
   ]
  },
  {
   "cell_type": "code",
   "execution_count": 143,
   "metadata": {},
   "outputs": [],
   "source": [
    "pca_95 = PCA(n_components=40)\n",
    "x_pca_95 = pca_95.fit_transform(x_scaled)"
   ]
  },
  {
   "cell_type": "code",
   "execution_count": 144,
   "metadata": {},
   "outputs": [],
   "source": [
    "pca_99 = PCA(n_components=num_comp_var99)\n",
    "x_pca_99 = pca_99.fit_transform(x_scaled)"
   ]
  },
  {
   "cell_type": "code",
   "execution_count": 120,
   "metadata": {},
   "outputs": [
    {
     "data": {
      "text/plain": [
       "(96589, 40)"
      ]
     },
     "execution_count": 120,
     "metadata": {},
     "output_type": "execute_result"
    }
   ],
   "source": [
    "x_pca_95.shape"
   ]
  },
  {
   "cell_type": "code",
   "execution_count": 132,
   "metadata": {},
   "outputs": [],
   "source": [
    "def pca_labels(comp_shape): #create labels for components\n",
    "    pca_columns = []\n",
    "    for i in range(comp_shape):\n",
    "        comp_number = f'PC{i+1}'\n",
    "        pca_columns.append(comp_number)\n",
    "    return pca_columns"
   ]
  },
  {
   "cell_type": "code",
   "execution_count": 136,
   "metadata": {},
   "outputs": [],
   "source": [
    "var_95_labels = pca_labels(num_comp_var95)\n",
    "var_99_labels = pca_labels(num_comp_var99)"
   ]
  },
  {
   "cell_type": "code",
   "execution_count": 146,
   "metadata": {},
   "outputs": [],
   "source": [
    "df_95_var = pd.DataFrame(x_pca_95,columns=var_95_labels)\n",
    "df_99_var = pd.DataFrame(x_pca_99,columns=var_99_labels)"
   ]
  },
  {
   "cell_type": "code",
   "execution_count": 150,
   "metadata": {},
   "outputs": [],
   "source": [
    "df_95_var['Target']=y #final data w/ 95% exp var\n",
    "df_99_var['Target']=y #final data w/ 99% ex par "
   ]
  },
  {
   "cell_type": "code",
   "execution_count": 153,
   "metadata": {},
   "outputs": [],
   "source": [
    "df_95_var.to_csv('project_2_dataset_95var')\n",
    "df_99_var.to_csv('project_2_dataset_99var')"
   ]
  }
 ],
 "metadata": {
  "interpreter": {
   "hash": "1d050cddb74b2da45a0628d6c08448b1b07527cd23eae961beca7c27a7bd2f06"
  },
  "kernelspec": {
   "display_name": "Python 3.9.9 64-bit (windows store)",
   "language": "python",
   "name": "python3"
  },
  "language_info": {
   "codemirror_mode": {
    "name": "ipython",
    "version": 3
   },
   "file_extension": ".py",
   "mimetype": "text/x-python",
   "name": "python",
   "nbconvert_exporter": "python",
   "pygments_lexer": "ipython3",
   "version": "3.9.9"
  },
  "orig_nbformat": 4
 },
 "nbformat": 4,
 "nbformat_minor": 2
}
